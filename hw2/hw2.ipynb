{
 "cells": [
  {
   "cell_type": "code",
   "execution_count": 1,
   "id": "d5f93ecb-4a57-49df-ab76-d7fb46f47f9c",
   "metadata": {},
   "outputs": [],
   "source": [
    "import cvxpy as cp\n",
    "import numpy as np"
   ]
  },
  {
   "cell_type": "code",
   "execution_count": 2,
   "id": "95e32e1b-b9b0-47f4-82fe-ec5cd01334d3",
   "metadata": {},
   "outputs": [],
   "source": [
    "# interest rate for Net Present Value calculations\n",
    "rate = 4/100; # 4.0#\n",
    "# data for generator dispatch problem\n",
    "D = 365; # days in a year\n",
    "Y = 20; # years simulated\n",
    "T = 24; # hours simulated in each day\n",
    "t= np.arange(T); # vector of time\n",
    "d = 40 * np.array([\n",
    "    0.4, 0.4, 0.4, 0.65,\n",
    "    0.65, 0.6, 0.6, 0.65,\n",
    "    0.8, 0.85, 0.8, 0.8,\n",
    "    0.75, 0.6, 0.5, 0.3, \n",
    "    0.3, 0.4, 0.54, 0.6, \n",
    "    0.75, 0.7, 0.6, 0.5\n",
    "]) # daily demand in MWh\n",
    "n = 4; # number of dispatchable generators (2 hard coal and 2 OCGT plants) to choose from,\n",
    "# in addition to a solar plant\n",
    "solar_cap_fact = np.concatenate((\n",
    "    np.zeros(6),\n",
    "    np.sin(np.pi*np.arange(0, 13)/12),\n",
    "    np.zeros(24-6-(np.arange(0,13).size))\n",
    "))\n",
    "# capacity factor of the potential solar plant = power_available/installed_capacity\n",
    "# (To be used in Part II only: capacity factor of the potential wind plant = power_available/installed_capacity)\n",
    "wind_cap_fact = np.array([\n",
    "    0.3277, 0.2865, 0.3303, 0.3073, 0.2994, 0.3071,\n",
    "    0.2980, 0.2988, 0.3149, 0.3141, 0.3142, 0.5*0.3067, \n",
    "    0.5*0.2879, 0.5*0.3072, 0.5*0.3163, 0.5*0.3049, 0.5*0.3103, \n",
    "    0.3914, 0.4008 , 0.3879, 0.3889, 0.3999, 0.4153, 0.3923\n",
    "])\n",
    "Pmax = np.array([10, 5, 10, 15]) \n",
    "# Maximum generator capacities in MW [hard coal, hard coal, OCGT, OCGT] due to land constraints\n",
    "Pmax_solar = 40; # Maximum capacity in MW for solar plant due to land constraints\n",
    "Pmin = np.zeros(4) # generator minimum capacities in MW\n",
    "Pmin_solar = 0;\n",
    "ramp_hard_coal = 0.015 # 1.5# [# Pnom/minute]\n",
    "hourly_ramp_hard_coal = ramp_hard_coal*60; # [# Pnom/h]\n",
    "ramp_ocgt = 0.08 # 1.5# [# Pnom/min]\n",
    "hourly_ramp_ocgt = ramp_ocgt*60; # [# Pnom/h]\n",
    "R = np.array([hourly_ramp_hard_coal, hourly_ramp_hard_coal, hourly_ramp_ocgt, hourly_ramp_ocgt]) * Pmax \n",
    "# [hourly_ramp_hard_coal*Pmax[0], hourly_ramp_hard_coal*Pmax[1], hourly_ramp_ocgt*Pmax[2], hourly_ramp_ocgt*Pmax[3]]; # ramp-rate limits [MWh]\n",
    "# source:\n",
    "# https://www.eia.gov/electricity/annual/html/epa_08_04.html\n",
    "#\n",
    "fuel_cost_per_MWh_2018 = np.array([25.4, 25.4, 27.35, 27.35]); # $/MWh, 2018\n",
    "#\n",
    "#fuel_cost_per_MWh_2019 = [24.28 24.28 23.11 23.11]; # $/MWh, 2019 This\n",
    "#cost won't be used\n",
    "# Investment costs (or capital costs per MW of built capacity). From https://atb.nrel.gov/\n",
    "capital_cost_solar_plant_per_MW = 1200000; # dollars/MW, denoted as M_i in the pdf\n",
    "capital_cost_wind_plant_per_MW = 1300000; # dollars/MW, denoted as M_i in the pdf\n",
    "capital_cost_coal_plant = 4200000; # dollars/MW, denoted as M_i in the pdf\n",
    "capital_cost_gas_plant = 2600000; # dollars/MW, denoted as M_i in the pdf\n",
    "# Emission rates of pounds of CO_2 per kWh for each tech (https://www.eia.gov/tools/faqs/faq.php?id=74&t=11)\n",
    "co2_coal = 2.30; # pounds per kWh\n",
    "co2_gas = 0.97; # pounds per kWh\n",
    "co2_solar = 0;\n",
    "# Remember to convert these to pounds/MWh for consistency in your units\n",
    "# co2_emissions = [];\n",
    "## Solution\n",
    "## Optimal capacity and hourly dispatch"
   ]
  },
  {
   "cell_type": "code",
   "execution_count": 3,
   "id": "d3de3830-c8ab-4d17-b029-6a821587c914",
   "metadata": {},
   "outputs": [
    {
     "name": "stdout",
     "output_type": "stream",
     "text": [
      "89567585.49838331\n",
      "[5.65685425]\n",
      "[[9.99999999]\n",
      " [4.99999998]\n",
      " [7.38259411]\n",
      " [7.61740591]]\n"
     ]
    },
    {
     "name": "stderr",
     "output_type": "stream",
     "text": [
      "C:\\Users\\LW\\AppData\\Local\\Programs\\Python\\Python312\\Lib\\site-packages\\cvxpy\\reductions\\solvers\\solving_chain_utils.py:30: UserWarning: The problem includes expressions that don't support CPP backend. Defaulting to the SCIPY backend for canonicalization.\n",
      "  warnings.warn(UserWarning(\n"
     ]
    }
   ],
   "source": [
    "# define variables\n",
    "p = cp.Variable((n, T))\n",
    "p_solar = cp.Variable((1, T))\n",
    "installed_thermal_capacity = cp.Variable((n, 1))\n",
    "installed_solar_capacity = cp.Variable(1);\n",
    "\n",
    "# define constraints\n",
    "constraints = [\n",
    "    cp.transpose(installed_thermal_capacity) >= Pmin,\n",
    "    installed_solar_capacity >= Pmin_solar,\n",
    "    cp.transpose(installed_thermal_capacity) <= Pmax,\n",
    "    installed_solar_capacity <= Pmax_solar,\n",
    "    cp.sum(p, axis=0) + p_solar >= d,\n",
    "    p >= 0,\n",
    "    p_solar >= 0,\n",
    "    p <= installed_thermal_capacity,\n",
    "    p_solar <= solar_cap_fact * installed_solar_capacity,\n",
    "    # cp.abs(cp.diff(p, axis=1)) <= R[:, np.newaxis]\n",
    "]\n",
    "\n",
    "# define costs\n",
    "coal_investment_cost = cp.sum(capital_cost_gas_plant * installed_thermal_capacity[0:2])\n",
    "gas_investment_cost = cp.sum(capital_cost_gas_plant * installed_thermal_capacity[2:n])\n",
    "solar_investment_cost = cp.sum(capital_cost_solar_plant_per_MW * installed_solar_capacity)\n",
    "\n",
    "fuel_costs = cp.sum(365 * cp.transpose(p) @ fuel_cost_per_MWh_2018)\n",
    "\n",
    "NPV = fuel_costs/(1 + rate)\n",
    "\n",
    "# solve\n",
    "problem = cp.Problem(cp.Minimize(\n",
    "    NPV + coal_investment_cost + gas_investment_cost + solar_investment_cost\n",
    "), constraints)\n",
    "\n",
    "problem.solve()\n",
    "\n",
    "print(problem.value)\n",
    "print(installed_solar_capacity.value)\n",
    "print(installed_thermal_capacity.value)\n",
    "# print(p.value)"
   ]
  },
  {
   "cell_type": "code",
   "execution_count": 4,
   "id": "2b2ea22c-b7a5-47e1-a2f8-9ad77214adab",
   "metadata": {},
   "outputs": [
    {
     "name": "stdout",
     "output_type": "stream",
     "text": [
      "[[ 0  1  2  3  4  5  6  7  8  9 10 11 12 13 14 15 16 17 18 19 20 21 22 23]\n",
      " [24 25 26 27 28 29 30 31 32 33 34 35 36 37 38 39 40 41 42 43 44 45 46 47]\n",
      " [48 49 50 51 52 53 54 55 56 57 58 59 60 61 62 63 64 65 66 67 68 69 70 71]\n",
      " [72 73 74 75 76 77 78 79 80 81 82 83 84 85 86 87 88 89 90 91 92 93 94 95]]\n",
      "[144 148 152 156 160 164 168 172 176 180 184 188 192 196 200 204 208 212\n",
      " 216 220 224 228 232 236]\n",
      "[3891.6 3997.1 4102.6 4208.1 4313.6 4419.1 4524.6 4630.1 4735.6 4841.1\n",
      " 4946.6 5052.1 5157.6 5263.1 5368.6 5474.1 5579.6 5685.1 5790.6 5896.1\n",
      " 6001.6 6107.1 6212.6 6318.1]\n",
      "[[ True False False False False False False False False False False False\n",
      "  False False False False False False False False False False False False]\n",
      " [False False False False False False False False False False False False\n",
      "  False False False False False False False False False False False False]\n",
      " [False False False False False False False False False False False False\n",
      "  False False False False False False False False False False False False]\n",
      " [False False False False False False False False False False False False\n",
      "  False False False False False False False False False False False False]]\n",
      "[[ True  True  True  True]]\n",
      "(4, 24)\n"
     ]
    }
   ],
   "source": [
    "q = np.arange(n*T).reshape(n, T)\n",
    "print(q)\n",
    "print(np.sum(q, axis=0))\n",
    "print(np.transpose(q) @ (fuel_cost_per_MWh_2018))\n",
    "print(q < np.ones((n, 1)))\n",
    "# r = np.arange(24).reshape(1,24)\n",
    "# r < solar_cap_fact\n",
    "s = np.arange(4).reshape(4,1)\n",
    "print(s.T < Pmax)\n",
    "print((q < s).shape)"
   ]
  },
  {
   "cell_type": "code",
   "execution_count": 5,
   "id": "7844abe6-8702-4ccf-9a72-7d3bc372f8fe",
   "metadata": {},
   "outputs": [
    {
     "name": "stdout",
     "output_type": "stream",
     "text": [
      "40\n",
      "[16.  16.  16.  26.  26.  24.  24.  26.  32.  34.  32.  32.  30.  24.\n",
      " 20.  12.  12.  16.  21.6 24.  30.  28.  24.  20. ]\n"
     ]
    }
   ],
   "source": [
    "print(sum(Pmax))\n",
    "print(d)\n"
   ]
  },
  {
   "cell_type": "code",
   "execution_count": null,
   "id": "accc7b21-f1eb-4eaa-8f0b-34242e7cb1e2",
   "metadata": {},
   "outputs": [],
   "source": []
  }
 ],
 "metadata": {
  "kernelspec": {
   "display_name": "Python 3 (ipykernel)",
   "language": "python",
   "name": "python3"
  },
  "language_info": {
   "codemirror_mode": {
    "name": "ipython",
    "version": 3
   },
   "file_extension": ".py",
   "mimetype": "text/x-python",
   "name": "python",
   "nbconvert_exporter": "python",
   "pygments_lexer": "ipython3",
   "version": "3.12.3"
  }
 },
 "nbformat": 4,
 "nbformat_minor": 5
}
