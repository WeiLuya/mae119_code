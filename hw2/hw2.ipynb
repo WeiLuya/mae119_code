{
 "cells": [
  {
   "cell_type": "code",
   "execution_count": 1,
   "id": "d5f93ecb-4a57-49df-ab76-d7fb46f47f9c",
   "metadata": {},
   "outputs": [],
   "source": [
    "import cvxpy as cp\n",
    "import numpy as np"
   ]
  },
  {
   "cell_type": "code",
   "execution_count": 2,
   "id": "95e32e1b-b9b0-47f4-82fe-ec5cd01334d3",
   "metadata": {},
   "outputs": [],
   "source": [
    "# definitions\n",
    "\n",
    "# interest rate for Net Present Value calculations\n",
    "rate = 4/100; # 4.0#\n",
    "# data for generator dispatch problem\n",
    "D = 365; # days in a year\n",
    "Y = 20; # years simulated\n",
    "T = 24; # hours simulated in each day\n",
    "t= np.arange(T); # vector of time\n",
    "d = 40 * np.array([\n",
    "    0.4, 0.4, 0.4, 0.65, 0.65, 0.6, 0.6, 0.65, 0.8, 0.85, 0.8, 0.8,\n",
    "    0.75, 0.6, 0.5, 0.3, 0.3, 0.4, 0.54, 0.6, 0.75, 0.7, 0.6, 0.5\n",
    "]) # daily demand in MWh\n",
    "n = 4; # number of dispatchable generators (2 hard coal and 2 OCGT plants) to choose from,\n",
    "# in addition to a solar plant\n",
    "solar_cap_fact = np.concatenate((\n",
    "    np.zeros(6),\n",
    "    np.sin(np.pi*np.arange(0, 13)/12),\n",
    "    np.zeros(24-6-(np.arange(0,13).size))\n",
    "))\n",
    "# capacity factor of the potential solar plant = power_available/installed_capacity\n",
    "# (To be used in Part II only: capacity factor of the potential wind plant = power_available/installed_capacity)\n",
    "wind_cap_fact = np.array([\n",
    "    0.3277, 0.2865, 0.3303, 0.3073, 0.2994, 0.3071,\n",
    "    0.2980, 0.2988, 0.3149, 0.3141, 0.3142, 0.5*0.3067, \n",
    "    0.5*0.2879, 0.5*0.3072, 0.5*0.3163, 0.5*0.3049, 0.5*0.3103, \n",
    "    0.3914, 0.4008 , 0.3879, 0.3889, 0.3999, 0.4153, 0.3923\n",
    "])\n",
    "Pmax = np.array([10, 5, 10, 15]) \n",
    "# Maximum generator capacities in MW [hard coal, hard coal, OCGT, OCGT] due to land constraints\n",
    "Pmax_solar = 40; # Maximum capacity in MW for solar plant due to land constraints\n",
    "Pmin = np.zeros(4) # generator minimum capacities in MW\n",
    "Pmin_solar = 0;\n",
    "ramp_hard_coal = 0.015 # 1.5# [# Pnom/minute]\n",
    "hourly_ramp_hard_coal = ramp_hard_coal*60; # [# Pnom/h]\n",
    "ramp_ocgt = 0.08 # 1.5# [# Pnom/min]\n",
    "hourly_ramp_ocgt = ramp_ocgt*60; # [# Pnom/h]\n",
    "R = np.array([hourly_ramp_hard_coal, hourly_ramp_hard_coal, hourly_ramp_ocgt, hourly_ramp_ocgt]) * Pmax \n",
    "# [hourly_ramp_hard_coal*Pmax[0], hourly_ramp_hard_coal*Pmax[1], hourly_ramp_ocgt*Pmax[2], hourly_ramp_ocgt*Pmax[3]]; # ramp-rate limits [MWh]\n",
    "# source:\n",
    "# https://www.eia.gov/electricity/annual/html/epa_08_04.html\n",
    "#\n",
    "fuel_cost_per_MWh_2018 = np.array([25.4, 25.4, 27.35, 27.35]); # $/MWh, 2018\n",
    "#\n",
    "#fuel_cost_per_MWh_2019 = [24.28 24.28 23.11 23.11]; # $/MWh, 2019 This\n",
    "#cost won't be used\n",
    "# Investment costs (or capital costs per MW of built capacity). From https://atb.nrel.gov/\n",
    "capital_cost_solar_plant_per_MW = 1200000; # dollars/MW, denoted as M_i in the pdf\n",
    "capital_cost_wind_plant_per_MW = 1300000; # dollars/MW, denoted as M_i in the pdf\n",
    "capital_cost_coal_plant = 4200000; # dollars/MW, denoted as M_i in the pdf\n",
    "capital_cost_gas_plant = 2600000; # dollars/MW, denoted as M_i in the pdf\n",
    "# Emission rates of pounds of CO_2 per kWh for each tech (https://www.eia.gov/tools/faqs/faq.php?id=74&t=11)\n",
    "co2_coal = 2.30; # pounds per kWh\n",
    "co2_gas = 0.97; # pounds per kWh\n",
    "co2_solar = 0;\n",
    "# Remember to convert these to pounds/MWh for consistency in your units\n",
    "# co2_emissions = [];\n",
    "## Solution\n",
    "## Optimal capacity and hourly dispatch"
   ]
  },
  {
   "cell_type": "code",
   "execution_count": 3,
   "id": "425c0249-b282-4ae3-9efc-e74728a9c2a6",
   "metadata": {},
   "outputs": [],
   "source": [
    "# define variables\n",
    "p = cp.Variable((n, T))\n",
    "p_solar = cp.Variable((1, T))\n",
    "installed_thermal_capacity = cp.Variable((n, 1))\n",
    "installed_solar_capacity = cp.Variable(1);"
   ]
  },
  {
   "cell_type": "code",
   "execution_count": 4,
   "id": "d3de3830-c8ab-4d17-b029-6a821587c914",
   "metadata": {},
   "outputs": [],
   "source": [
    "# define constraints\n",
    "constraints = []\n",
    "\n",
    "constraints.extend([\n",
    "    installed_thermal_capacity >= Pmin,\n",
    "    installed_solar_capacity >= Pmin_solar,\n",
    "    installed_thermal_capacity <= Pmax,\n",
    "    installed_solar_capacity <= Pmax_solar,\n",
    "    cp.sum(p, axis=0) + p_solar >= d,\n",
    "    p >= 0,\n",
    "    p_solar >= 0,\n",
    "    p <= installed_thermal_capacity,\n",
    "    p_solar <= solar_cap_fact * installed_solar_capacity\n",
    "])\n",
    "\n",
    "# ramp up constraint\n",
    "for i in range(23):\n",
    "    constraints.append(cp.abs(p[:, i+1] - p[:, i]) <= R)"
   ]
  },
  {
   "cell_type": "code",
   "execution_count": 5,
   "id": "9566dca3-ac94-4fc6-ba74-35ed92c30ca7",
   "metadata": {},
   "outputs": [],
   "source": [
    "# define costs\n",
    "coal_investment_cost = cp.sum(capital_cost_gas_plant * installed_thermal_capacity[0:2])\n",
    "gas_investment_cost = cp.sum(capital_cost_gas_plant * installed_thermal_capacity[2:4])\n",
    "solar_investment_cost = cp.sum(capital_cost_solar_plant_per_MW * installed_solar_capacity)\n",
    "\n",
    "fuel_costs = cp.sum(365 * cp.transpose(p) @ fuel_cost_per_MWh_2018)\n",
    "\n",
    "NPV = fuel_costs/(1 + rate)"
   ]
  },
  {
   "cell_type": "code",
   "execution_count": 6,
   "id": "d9fd84b8-2741-4644-a5a7-057a80599ec0",
   "metadata": {},
   "outputs": [
    {
     "name": "stdout",
     "output_type": "stream",
     "text": [
      "inf\n",
      "None\n",
      "None\n",
      "None\n"
     ]
    },
    {
     "name": "stderr",
     "output_type": "stream",
     "text": [
      "C:\\Users\\Luya\\AppData\\Roaming\\Python\\Python311\\site-packages\\cvxpy\\reductions\\solvers\\solving_chain_utils.py:30: UserWarning: The problem includes expressions that don't support CPP backend. Defaulting to the SCIPY backend for canonicalization.\n",
      "  warnings.warn(UserWarning(\n"
     ]
    }
   ],
   "source": [
    "# solve\n",
    "problem = cp.Problem(cp.Minimize(\n",
    "    NPV + coal_investment_cost + gas_investment_cost + solar_investment_cost\n",
    "), constraints)\n",
    "\n",
    "problem.solve()\n",
    "\n",
    "print(problem.value)\n",
    "print(installed_solar_capacity.value)\n",
    "print(installed_thermal_capacity.value)\n",
    "print(p.value)"
   ]
  },
  {
   "cell_type": "code",
   "execution_count": 7,
   "id": "2b2ea22c-b7a5-47e1-a2f8-9ad77214adab",
   "metadata": {},
   "outputs": [
    {
     "data": {
      "text/plain": [
       "array([[False, False, False, False, False, False, False, False, False,\n",
       "        False, False, False, False, False, False, False, False, False,\n",
       "        False, False, False, False, False, False]])"
      ]
     },
     "execution_count": 7,
     "metadata": {},
     "output_type": "execute_result"
    }
   ],
   "source": [
    "# q = np.arange(n*T).reshape(n, T)\n",
    "# q <= np.zeros((4, 1))\n",
    "r = np.arange(24).reshape(1,24)\n",
    "r < solar_cap_fact"
   ]
  },
  {
   "cell_type": "code",
   "execution_count": 8,
   "id": "7844abe6-8702-4ccf-9a72-7d3bc372f8fe",
   "metadata": {},
   "outputs": [
    {
     "data": {
      "text/plain": [
       "array([0.00000000e+00, 0.00000000e+00, 0.00000000e+00, 0.00000000e+00,\n",
       "       0.00000000e+00, 0.00000000e+00, 0.00000000e+00, 1.03527618e+01,\n",
       "       2.00000000e+01, 2.82842712e+01, 3.46410162e+01, 3.86370331e+01,\n",
       "       4.00000000e+01, 3.86370331e+01, 3.46410162e+01, 2.82842712e+01,\n",
       "       2.00000000e+01, 1.03527618e+01, 4.89858720e-15, 0.00000000e+00,\n",
       "       0.00000000e+00, 0.00000000e+00, 0.00000000e+00, 0.00000000e+00])"
      ]
     },
     "execution_count": 8,
     "metadata": {},
     "output_type": "execute_result"
    }
   ],
   "source": [
    "solar_cap_fact * Pmax_solar"
   ]
  }
 ],
 "metadata": {
  "kernelspec": {
   "display_name": "Python 3 (ipykernel)",
   "language": "python",
   "name": "python3"
  },
  "language_info": {
   "codemirror_mode": {
    "name": "ipython",
    "version": 3
   },
   "file_extension": ".py",
   "mimetype": "text/x-python",
   "name": "python",
   "nbconvert_exporter": "python",
   "pygments_lexer": "ipython3",
   "version": "3.11.1"
  }
 },
 "nbformat": 4,
 "nbformat_minor": 5
}
