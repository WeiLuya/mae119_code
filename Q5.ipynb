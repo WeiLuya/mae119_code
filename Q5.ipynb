{
 "cells": [
  {
   "cell_type": "code",
   "execution_count": 44,
   "id": "47e9e82a-77d6-4310-be60-76a67ed41e78",
   "metadata": {},
   "outputs": [],
   "source": [
    "import numpy as np\n",
    "from scipy.optimize import brentq, fsolve\n",
    "import matplotlib.pyplot as plt"
   ]
  },
  {
   "cell_type": "code",
   "execution_count": 2,
   "id": "b60e6bcc-a25d-40e9-ace1-24282c0e7967",
   "metadata": {},
   "outputs": [],
   "source": [
    "def x_prime(x, a):\n",
    "    return -x[0] + a*x[1] + (x[0]**2)*x[1]"
   ]
  },
  {
   "cell_type": "code",
   "execution_count": 3,
   "id": "7b2f4d3e-8fb8-41df-9cb6-7664fe2f2738",
   "metadata": {},
   "outputs": [],
   "source": [
    "def y_prime(x, y, a, b):\n",
    "    return b - a*y - (x**2)*y"
   ]
  },
  {
   "cell_type": "code",
   "execution_count": 4,
   "id": "5c596eea-3770-4b29-a648-cfc4b7d366b4",
   "metadata": {},
   "outputs": [],
   "source": [
    "def func(x, a, b):\n",
    "    return [a - x[0] - (4*x[0]*x[1])/(1 + x[0]**2), b*x[0] * (1 - x[1]/(1+x[0]**2))]"
   ]
  },
  {
   "cell_type": "code",
   "execution_count": 5,
   "id": "71c66ec6-622a-47fd-b212-2c563163f982",
   "metadata": {},
   "outputs": [],
   "source": [
    "def get_fixed_point(a, b):\n",
    "    solution = fsolve(func, [0, 0], args=(a, b))\n",
    "    return solution"
   ]
  },
  {
   "cell_type": "code",
   "execution_count": 13,
   "id": "0f9f8e05-4435-45ff-98a2-904cae190ba7",
   "metadata": {},
   "outputs": [],
   "source": [
    "def get_jacobian(x, y, a, b):\n",
    "    j11 = -1 - (4*y / (1+x**2)) + ((8*y*x**2) / ((1+x**2)**2))\n",
    "    j12 = -4*x / (1+x**2)\n",
    "    j21 = b - b*y / (1+x**2) + 2*b*y*x**2 / (1+x**2)**2\n",
    "    j22 = -b*x / (1+x**2)\n",
    "    return np.array([[j11, j12], [j21, j22]])"
   ]
  },
  {
   "cell_type": "code",
   "execution_count": 16,
   "id": "d2d548e9-88ec-4463-96a4-19cb2dfea48b",
   "metadata": {},
   "outputs": [],
   "source": [
    "def get_stability(j):\n",
    "    tr = np.trace(j)\n",
    "    det = np.linalg.det(j)\n",
    "    is_spiral = 4*det > tr\n",
    "    is_stable = tr < 0 and det > 0\n",
    "    return is_spiral, is_stable"
   ]
  },
  {
   "cell_type": "code",
   "execution_count": 34,
   "id": "7011c84b-f558-41cd-a4cf-753b789d3ebb",
   "metadata": {},
   "outputs": [],
   "source": [
    "a_vec = np.linspace(0, 50, 50)\n",
    "b_vec = np.linspace(0, 50, 50)"
   ]
  },
  {
   "cell_type": "code",
   "execution_count": 36,
   "id": "76f7c7c0-a172-41d9-9f71-d8741aef1187",
   "metadata": {},
   "outputs": [
    {
     "name": "stderr",
     "output_type": "stream",
     "text": [
      "C:\\Users\\Luya\\AppData\\Local\\Temp\\ipykernel_5424\\139466760.py:2: RuntimeWarning: The iteration is not making good progress, as measured by the \n",
      "  improvement from the last ten iterations.\n",
      "  solution = fsolve(func, [0, 0], args=(a, b))\n"
     ]
    }
   ],
   "source": [
    "roots = np.zeros([a_vec.size, b_vec.size, 2])\n",
    "spirals = np.zeros([a_vec.size, b_vec.size]).astype(bool)\n",
    "stability = np.zeros([a_vec.size, b_vec.size]).astype(bool)\n",
    "for i, a in enumerate(a_vec):\n",
    "    for j, b in enumerate(b_vec):\n",
    "        root = get_fixed_point(a, b)\n",
    "        roots[i, j, :] = root\n",
    "        jacobian = get_jacobian(root[0], root[1], a, b)\n",
    "        spirals[i, j], stability[i, j] = get_stability(jacobian)\n",
    "        "
   ]
  },
  {
   "cell_type": "code",
   "execution_count": 43,
   "id": "b7024647-e0a2-4de8-ab09-7c893605c705",
   "metadata": {},
   "outputs": [
    {
     "name": "stdout",
     "output_type": "stream",
     "text": [
      "[[False False False ... False False False]\n",
      " [False  True  True ... False False False]\n",
      " [False  True  True ... False False False]\n",
      " ...\n",
      " [False False False ...  True  True  True]\n",
      " [False False False ...  True  True  True]\n",
      " [False False False ...  True  True  True]]\n"
     ]
    }
   ],
   "source": [
    "stable_spirals = np.logical_and(spirals, stability)\n",
    "stable_spiral_points = []\n",
    "\n",
    "plt.scatter()"
   ]
  }
 ],
 "metadata": {
  "kernelspec": {
   "display_name": "Python 3 (ipykernel)",
   "language": "python",
   "name": "python3"
  },
  "language_info": {
   "codemirror_mode": {
    "name": "ipython",
    "version": 3
   },
   "file_extension": ".py",
   "mimetype": "text/x-python",
   "name": "python",
   "nbconvert_exporter": "python",
   "pygments_lexer": "ipython3",
   "version": "3.11.1"
  }
 },
 "nbformat": 4,
 "nbformat_minor": 5
}
